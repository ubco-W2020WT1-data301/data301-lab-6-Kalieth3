{
 "cells": [
  {
   "cell_type": "markdown",
   "metadata": {},
   "source": [
    "# Note about Labs 5 and 6"
   ]
  },
  {
   "cell_type": "markdown",
   "metadata": {},
   "source": [
    "Due to a scheduling mixup (my fault), I need to combine Labs 5 and 6 together.\n",
    "Do not worry, it is not \"twice\" the amount of work - the lab is almost the same length (maybe a little longer) but it is about two disparate topics: advanced git and data visualizations."
   ]
  },
  {
   "cell_type": "markdown",
   "metadata": {},
   "source": [
    "# Lab 5"
   ]
  },
  {
   "cell_type": "markdown",
   "metadata": {},
   "source": [
    "After many years of searching, I have found the [**PERFECT** tutorial](http://learngitbranching.js.org) to help you get more familiar with git commands, particularly branching, and merging - things you will start encountering when you start collaboratively working on the projects.\n",
    "Rather than make this a milestone task though, I will be including it as part of Lab 5.\n",
    "It's included here so you know that you should do this part of the lab before proceeding to Task 3 onwards.\n",
    "You are responsible for completing the following modules (at minimum):\n",
    "\n",
    "- \"Main: Introduction Sequence\" <- This should mostly be review.\n",
    "  - Exercise 1\n",
    "  - Exercise 2\n",
    "  - Exercise 3\n",
    "  - Exercise 4\n",
    "  \n",
    "\n",
    "- \"Remote: Push & Pull -- Git Remotes\" <- This is new stuff and you should spend time working through the tutorial.\n",
    "  - Exercise 1\n",
    "  - Exercise 2\n",
    "  - Exercise 3\n",
    "  - Exercise 4\n",
    "  - Exercise 5\n",
    "  - Exercise 6\n",
    "  - Exercise 7\n",
    "  - Exercise 8"
   ]
  },
  {
   "cell_type": "markdown",
   "metadata": {},
   "source": [
    "Please include screenshots for your Git Tutorial here:\n",
    "\n",
    "<img src=\"images/\" width=\"400px\">\n",
    "\n",
    "<img src=\"images/\" width=\"400px\">"
   ]
  },
  {
   "cell_type": "markdown",
   "metadata": {},
   "source": [
    "# Lab 6"
   ]
  },
  {
   "cell_type": "code",
   "execution_count": 1,
   "metadata": {},
   "outputs": [],
   "source": [
    "import pandas as pd\n",
    "import numpy as np\n",
    "import matplotlib.pyplot as plt\n",
    "import seaborn as sns"
   ]
  },
  {
   "cell_type": "markdown",
   "metadata": {},
   "source": [
    "## A: Setting the Aesthetics for the plots (2 marks)"
   ]
  },
  {
   "cell_type": "markdown",
   "metadata": {},
   "source": [
    "### A1: Set the Seaborn figure theme and scale up the text in the figures (2 marks)\n",
    "\n",
    "There are five preset Seaborn themes: `darkgrid`, `whitegrid`, `dark`, `white`, and `ticks`. \n",
    "They are each suited to different applications and personal preferences.\n",
    "You can see what they look like [here](https://seaborn.pydata.org/tutorial/aesthetics.html#seaborn-figure-styles).\n",
    "\n",
    "Hint: You will need to use the `font_scale` property of the `set_theme()` function in Seaborn."
   ]
  },
  {
   "cell_type": "code",
   "execution_count": 1,
   "metadata": {},
   "outputs": [],
   "source": [
    "# Your Solution Here"
   ]
  },
  {
   "cell_type": "markdown",
   "metadata": {},
   "source": [
    "## B: Exploratory Data Analysis (40 marks)"
   ]
  },
  {
   "cell_type": "markdown",
   "metadata": {},
   "source": [
    "### B1. Describe your dataset (2 marks)\n",
    "\n",
    "Consider the following questions to guide you in your exploration:\n",
    "\n",
    "- Who: Which company/agency/organization provided this data?\n",
    "- What: What is in your data?\n",
    "- When: When was your data collected (for example, for which years)?\n",
    "- Why: What is the purpose of your dataset? Is it for transparency/accountability, public interest, fun, learning, etc...\n",
    "- How: How was your data collected? Was it a human collecting the data? Historical records digitized? Server logs?\n",
    "\n",
    "**Hint: The [pokemon dataset is from this Kaggle page.](https://www.kaggle.com/rounakbanik/pokemon)**\n",
    "\n",
    "*Hint: You probably will not need more than 250 words to describe your dataset. All the questions above do not need to be answered, it's more to guide your exploration and think a little bit about the context of your data. It is also possible you will not know the answers to some of the questions above, that is FINE - data scientists are often faced with the challenge of analyzing data from unknown sources. Do your best, acknowledge the limitations of your data as well as your understanding of it. Also, make it clear what you're speculating about. For example, \"I speculate that the {...column_name...} column must be related to {....} because {....}.\"*"
   ]
  },
  {
   "cell_type": "markdown",
   "metadata": {},
   "source": [
    "### B2. Load the dataset from a file, or URL (1 mark)\n",
    "\n",
    "This needs to be a pandas dataframe. Remember that others may be running your jupyter notebook so it's important that the data is accessible to them. If your dataset isn't accessible as a URL, make sure to commit it into your repo. If your dataset is too large to commit (>100 MB), and it's not possible to get a URL to it, you should contact your instructor for advice.\n",
    "\n",
    "You can use this URL to load the data: https://github.com/firasm/bits/raw/master/pokemon.csv"
   ]
  },
  {
   "cell_type": "code",
   "execution_count": 2,
   "metadata": {},
   "outputs": [],
   "source": [
    "# Your solution here"
   ]
  },
  {
   "cell_type": "markdown",
   "metadata": {},
   "source": [
    "### B3. Explore your dataset (3 marks)\n",
    "\n",
    "Which of your columns are interesting/relevant? Remember to take some notes on your observations, you'll need them for the next EDA step (initial thoughts)."
   ]
  },
  {
   "cell_type": "markdown",
   "metadata": {},
   "source": [
    "#### B3.1:  You should start with [`df.describe().T`](https://pandas.pydata.org/pandas-docs/stable/reference/api/pandas.DataFrame.describe.html) (2 marks)\n",
    "\n",
    "See [linked documentation]((https://pandas.pydata.org/pandas-docs/stable/reference/api/pandas.DataFrame.describe.html) for the use of `include`/`exclude` to look at numerical and categorical data."
   ]
  },
  {
   "cell_type": "code",
   "execution_count": 3,
   "metadata": {},
   "outputs": [],
   "source": [
    "# Your solution to output `df.describe.T` for numerical columns:"
   ]
  },
  {
   "cell_type": "code",
   "execution_count": 4,
   "metadata": {},
   "outputs": [],
   "source": [
    "# Your solution to output `df.describe.T` for categorical columns:"
   ]
  },
  {
   "cell_type": "markdown",
   "metadata": {},
   "source": [
    "#### B3.2 Let's try `pandas_profiling` now. (1 mark)\n",
    "\n",
    "**Hint: To install the [`pandas_profiling`](https://towardsdatascience.com/exploratory-data-analysis-with-pandas-profiling-de3aae2ddff3) package, you'll need to use `conda`:**\n",
    "\n",
    "- `conda install -c conda-forge pandas-profiling`"
   ]
  },
  {
   "cell_type": "code",
   "execution_count": 5,
   "metadata": {},
   "outputs": [],
   "source": [
    "import pandas_profiling\n",
    "\n",
    "# Your solution for `pandas_profiling`"
   ]
  },
  {
   "cell_type": "markdown",
   "metadata": {},
   "source": [
    "### B4. Initial Thoughts (2 marks)"
   ]
  },
  {
   "cell_type": "markdown",
   "metadata": {},
   "source": [
    "#### B4.1. Use this section to record your observations. (2 marks)\n",
    "\n",
    "Does anything jump out at you as surprising or particularly interesting? \n",
    "\n",
    "Where do you think you'll go with exploring this dataset? Feel free to take notes in this section and use it as a scratch pad.\n",
    "\n",
    "Any content in this area will only be marked for effort and completeness."
   ]
  },
  {
   "cell_type": "markdown",
   "metadata": {},
   "source": [
    "#### # Your observations here:\n",
    "\n",
    "- Obs 1\n",
    "- Obs 2\n",
    "- ..."
   ]
  },
  {
   "cell_type": "markdown",
   "metadata": {},
   "source": [
    "### B5. Wrangling (5 marks)\n",
    "\n",
    "The next step is to wrangle your data based on your initial explorations. Normally, by this point, you have some idea of what your research question will be, and that will help you narrow and focus your dataset. \n",
    "\n",
    "In this lab, we will guide you through some wrangling tasks with this dataset."
   ]
  },
  {
   "cell_type": "markdown",
   "metadata": {},
   "source": [
    "#### B5.1. Drop the 'Generation', 'Sp. Atk', 'Sp. Def', 'Total', and the '#' columns (1 mark)"
   ]
  },
  {
   "cell_type": "code",
   "execution_count": 6,
   "metadata": {},
   "outputs": [],
   "source": [
    "# Your solution here"
   ]
  },
  {
   "cell_type": "markdown",
   "metadata": {},
   "source": [
    "#### B5.2. Drop any NaN values in HP, Attack, Defense, Speed (1 mark)"
   ]
  },
  {
   "cell_type": "code",
   "execution_count": 7,
   "metadata": {},
   "outputs": [],
   "source": [
    "# Your solution here"
   ]
  },
  {
   "cell_type": "markdown",
   "metadata": {},
   "source": [
    "#### B5.3. Reset the index to get a new index without missing values (1 mark)"
   ]
  },
  {
   "cell_type": "code",
   "execution_count": 8,
   "metadata": {},
   "outputs": [],
   "source": [
    "# Your solution here"
   ]
  },
  {
   "cell_type": "markdown",
   "metadata": {},
   "source": [
    "#### B5.4. A new column was added called `index`; remove it. (1 mark)"
   ]
  },
  {
   "cell_type": "code",
   "execution_count": 9,
   "metadata": {},
   "outputs": [],
   "source": [
    "# Your solution here"
   ]
  },
  {
   "cell_type": "markdown",
   "metadata": {},
   "source": [
    "#### B5.5. Calculate a new column called \"Weighted Score\" that computes an aggregate score comprising:\n",
    "\n",
    "- 20% 'HP'\n",
    "- 40% 'Attack'\n",
    "- 30% 'Defense'\n",
    "- 10% 'Speed'\n",
    "\n",
    "**(1 mark)**"
   ]
  },
  {
   "cell_type": "code",
   "execution_count": 10,
   "metadata": {},
   "outputs": [],
   "source": [
    "# Your solution here"
   ]
  },
  {
   "cell_type": "markdown",
   "metadata": {},
   "source": [
    "### B6. Research questions (2 marks)"
   ]
  },
  {
   "cell_type": "markdown",
   "metadata": {},
   "source": [
    "#### B6.1 Come up with at least two research questions about your dataset that will require data visualizations to help answer. (2 marks)\n",
    "\n",
    "Recall that for this purpose, you should only aim for \"Descriptive\" or \"Exploratory\" research questions.\n",
    "\n",
    "**Hint1: You are welcome to calculate any columns that you think might be useful to answer the question (or re-add dropped columns like 'Generation', 'Sp. Atk', 'Sp. Def'.***\n",
    "\n",
    "**Hint2: Try not to overthink this; this is a toy dataset about Pokémon, you're not going to solve climate change or cure world hunger. Focus your research questions on the various Pokémon attributes, and the types.**"
   ]
  },
  {
   "cell_type": "markdown",
   "metadata": {},
   "source": [
    "#### # Your solution here: \n",
    "\n",
    "**1. Sample Research Question:** Which Pokemon Types are the best, as determined by the Weighted Score?\n",
    "\n",
    "**2. Your RQ 1:**\n",
    "\n",
    "**3. Your RQ 2:**\n",
    "\n"
   ]
  },
  {
   "cell_type": "markdown",
   "metadata": {},
   "source": [
    "### B7. Data Analysis and Visualizations"
   ]
  },
  {
   "cell_type": "markdown",
   "metadata": {},
   "source": [
    "#### B7.1. **Sample Research Question:** Which Pokemon Types are the best, as determined by the Weighted Score? (3 marks)\n",
    "\n",
    "To answer this question, we will first need to do wrangle the data to return the mean Weighted_Score, split by the Pokemon Type 1. \n",
    "\n",
    "Here is the goal of this analysis:\n",
    "\n",
    "<img src=\"groupby.png\" width=\"200px\">\n"
   ]
  },
  {
   "cell_type": "code",
   "execution_count": 11,
   "metadata": {},
   "outputs": [],
   "source": [
    "# Your Solution here"
   ]
  },
  {
   "cell_type": "markdown",
   "metadata": {},
   "source": [
    "#### B7.2. Create a violin plot to show the distribution of Weighted_Scores split by all the Pokémon types. (2 marks)\n",
    "\n",
    "Here is the goal:\n",
    "\n",
    "<img src=\"violin.png\" width=\"350px\">"
   ]
  },
  {
   "cell_type": "code",
   "execution_count": 12,
   "metadata": {},
   "outputs": [],
   "source": [
    "# Your Solution here"
   ]
  },
  {
   "cell_type": "markdown",
   "metadata": {},
   "source": [
    "#### B7.3. Create a Box Plot and overlay a strip plot (2 marks)\n",
    "\n",
    "Here is the goal:\n",
    "\n",
    "<img src=\"BoxPlot.png\" width=\"350px\">"
   ]
  },
  {
   "cell_type": "code",
   "execution_count": 13,
   "metadata": {},
   "outputs": [],
   "source": [
    "# Your Solution here "
   ]
  },
  {
   "cell_type": "markdown",
   "metadata": {},
   "source": [
    "#### 7.4. Create a [Hexbin plot with marginal distributions](http://seaborn.pydata.org/generated/seaborn.jointplot.html) (2 marks)\n",
    "\n",
    "This plot helps you visualize large amounts of data (and its distributions) by using colours to represent the number of points in a hexagonal shape.\n",
    "\n",
    "Here is the goal:\n",
    "\n",
    "<img src=\"jointplot.png\" width=\"350px\">"
   ]
  },
  {
   "cell_type": "code",
   "execution_count": 14,
   "metadata": {},
   "outputs": [],
   "source": [
    "# Your Solution here "
   ]
  },
  {
   "cell_type": "markdown",
   "metadata": {},
   "source": [
    "#### B7.5. Create a [PairPlot](https://seaborn.pydata.org/generated/seaborn.pairplot.html#seaborn.pairplot) of the quantiative features of the pokémon dataset (1 mark)\n",
    "\n",
    "Here is the goal:\n",
    "\n",
    "<img src=\"pairplot.png\" width=\"350px\">"
   ]
  },
  {
   "cell_type": "code",
   "execution_count": 15,
   "metadata": {},
   "outputs": [],
   "source": [
    "# Your Solution here"
   ]
  },
  {
   "cell_type": "markdown",
   "metadata": {},
   "source": [
    "#### B7.6. Create a visualization that helps you answer your first research question (2 marks)"
   ]
  },
  {
   "cell_type": "code",
   "execution_count": 17,
   "metadata": {},
   "outputs": [],
   "source": [
    "# Your Solution here"
   ]
  },
  {
   "cell_type": "markdown",
   "metadata": {},
   "source": [
    "#### B7.7. Create a visualization that helps you answer your second research question (2 marks)"
   ]
  },
  {
   "cell_type": "code",
   "execution_count": 18,
   "metadata": {},
   "outputs": [],
   "source": [
    "# Your Solution here"
   ]
  },
  {
   "cell_type": "markdown",
   "metadata": {},
   "source": [
    "### B8. Summary and conclusions (3 marks)"
   ]
  },
  {
   "cell_type": "markdown",
   "metadata": {},
   "source": [
    "#### B8.1. Summarize your findings and describe any conclusions and insight you were able to draw from your visualizations. (3 marks)\n",
    "\n",
    "- **Sample Research Question:** Which Pokemon Types are the best, as determined by the Weighted Score? (3 marks)\n",
    "\n",
    "    - Summary of findings, insight, and conclusions\n",
    "    - ..\n",
    "    \n",
    "\n",
    "- **Research Question 1:** RQ here\n",
    "\n",
    "    - Summary of findings, insight, and conclusions\n",
    "    - ..\n",
    "    \n",
    "\n",
    "- **Research Question 2:** RQ here\n",
    "\n",
    "    - Summary of findings, insight, and conclusions\n",
    "    - .."
   ]
  },
  {
   "cell_type": "markdown",
   "metadata": {},
   "source": [
    "## C. Method Chaining (8 marks)"
   ]
  },
  {
   "cell_type": "markdown",
   "metadata": {},
   "source": [
    "Method chaining allows you to apply multiple processing steps to your dataframe in a fewer lines of code so it is more readable. You should avoid having too many methods in your chain, as the more you have in a single chain, the harder it is to debug or troubleshoot. I would target about 5 methods in a chain, though this is a flexible suggestion and you should do what makes your analysis the most readable and group your chains based on their purpose (e.g., loading/cleaning, processing, etc…).\n",
    "\n",
    "**Note: See Milestone 2 for a more thorough description of method chaining.**"
   ]
  },
  {
   "cell_type": "markdown",
   "metadata": {},
   "source": [
    "#### C1. Use Method Chaining on the commands from sections B5.1, B5.2, B5.3, B5.4, B5.5. (4 marks)"
   ]
  },
  {
   "cell_type": "code",
   "execution_count": 17,
   "metadata": {},
   "outputs": [],
   "source": [
    "# Your Solution here"
   ]
  },
  {
   "cell_type": "markdown",
   "metadata": {},
   "source": [
    "#### C2. Use Method Chaining to do the tasks below. (4 marks)\n",
    "\n",
    "1. Remove all Pokémon 6th generation and above.\n",
    "2. Remove the Legendary column.\n",
    "3. Remove all rows that contain \"Forme\", a special form of Pokémon.\n",
    "4. Remove all rows that contain \"Mega\", another weird special form of Pokémon.\n",
    "\n",
    "**Hint: You will need to use the [.loc](https://towardsdatascience.com/effective-data-filtering-in-pandas-using-loc-40eb815455b6) in combination with the anonymous function lambda.**"
   ]
  },
  {
   "cell_type": "code",
   "execution_count": 18,
   "metadata": {},
   "outputs": [],
   "source": [
    "# Your Solution here"
   ]
  },
  {
   "cell_type": "markdown",
   "metadata": {},
   "source": [
    "## D. (OPTIONAL) Advanced Visualizations "
   ]
  },
  {
   "cell_type": "markdown",
   "metadata": {},
   "source": [
    "### D1. Create a [\"Ridgeline\"](https://seaborn.pydata.org/examples/kde_ridgeplot.html) plot fron the plots from B7.2 and B7.3 (2 marks).\n",
    "\n",
    "Here is the goal:\n",
    "\n",
    "<img src=\"ridgeline.png\" width=\"300px\">"
   ]
  },
  {
   "cell_type": "code",
   "execution_count": 19,
   "metadata": {},
   "outputs": [],
   "source": [
    "# Your Solution Here"
   ]
  }
 ],
 "metadata": {
  "kernelspec": {
   "display_name": "Python 3",
   "language": "python",
   "name": "python3"
  },
  "language_info": {
   "codemirror_mode": {
    "name": "ipython",
    "version": 3
   },
   "file_extension": ".py",
   "mimetype": "text/x-python",
   "name": "python",
   "nbconvert_exporter": "python",
   "pygments_lexer": "ipython3",
   "version": "3.8.3"
  }
 },
 "nbformat": 4,
 "nbformat_minor": 4
}
